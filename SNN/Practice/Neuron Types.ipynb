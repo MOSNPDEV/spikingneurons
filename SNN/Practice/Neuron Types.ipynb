{
 "cells": [
  {
   "cell_type": "code",
   "execution_count": 8,
   "metadata": {},
   "outputs": [],
   "source": [
    "%matplotlib inline\n",
    "from brian2 import * \n",
    "from scipy import stats"
   ]
  },
  {
   "cell_type": "code",
   "execution_count": 2,
   "metadata": {},
   "outputs": [
    {
     "name": "stdout",
     "output_type": "stream",
     "text": [
      "Starting simulation at t=0. s for a duration of 50. ms\n",
      "50. ms (100%) simulated in < 1s\n",
      "Starting simulation at t=53. ms for a duration of 100. ms\n",
      "100. ms (100%) simulated in < 1s\n"
     ]
    },
    {
     "data": {
      "image/png": "[encoded data removed]",
      "text/plain": [
       "<matplotlib.figure.Figure at 0x7f3d223b8e80>"
      ]
     },
     "metadata": {},
     "output_type": "display_data"
    }
   ],
   "source": [
    "#HH Neuron\n",
    "start_scope()\n",
    "\n",
    "from brian2 import *\n",
    "\n",
    "morpho = Cylinder(length=10*cm, diameter=2*238*um, n=1000, type='axon')\n",
    "\n",
    "El = 10.613*mV\n",
    "ENa = 115*mV\n",
    "EK = -12*mV\n",
    "gl = 0.3*msiemens/cm**2\n",
    "gNa0 = 120*msiemens/cm**2\n",
    "gK = 36*msiemens/cm**2\n",
    "\n",
    "# Typical equations\n",
    "eqs = '''\n",
    "# The same equations for the whole neuron, but possibly different parameter values\n",
    "# distributed transmembrane current\n",
    "Im = gl * (El-v) + gNa * m**3 * h * (ENa-v) + gK * n**4 * (EK-v) : amp/meter**2\n",
    "I : amp (point current) # applied current\n",
    "dm/dt = alpham * (1-m) - betam * m : 1\n",
    "dn/dt = alphan * (1-n) - betan * n : 1\n",
    "dh/dt = alphah * (1-h) - betah * h : 1\n",
    "alpham = (0.1/mV) * (-v+25*mV) / (exp((-v+25*mV) / (10*mV)) - 1)/ms : Hz\n",
    "betam = 4 * exp(-v/(18*mV))/ms : Hz\n",
    "alphah = 0.07 * exp(-v/(20*mV))/ms : Hz\n",
    "betah = 1/(exp((-v+30*mV) / (10*mV)) + 1)/ms : Hz\n",
    "alphan = (0.01/mV) * (-v+10*mV) / (exp((-v+10*mV) / (10*mV)) - 1)/ms : Hz\n",
    "betan = 0.125*exp(-v/(80*mV))/ms : Hz\n",
    "gNa : siemens/meter**2\n",
    "'''\n",
    "\n",
    "neuron = SpatialNeuron(morphology=morpho, model=eqs, Cm=1*uF/cm**2,\n",
    "                       Ri=35.4*ohm*cm, method=\"exponential_euler\")\n",
    "neuron.v = 0*mV\n",
    "neuron.h = 1\n",
    "neuron.m = 0\n",
    "neuron.n = .5\n",
    "neuron.I = 0\n",
    "neuron.gNa = gNa0\n",
    "neuron[5*cm:10*cm].gNa = 0*siemens/cm**2\n",
    "M = StateMonitor(neuron, 'v', record=True)\n",
    "\n",
    "run(50*ms, report='text')\n",
    "neuron.I[0] = 1*uA  # current injection at one end\n",
    "run(3*ms)\n",
    "neuron.I = 0*amp\n",
    "run(100*ms, report='text')\n",
    "for i in range(75, 125, 1):\n",
    "    plot(cumsum(neuron.length)/cm, i+(1./60)*M.v[:, i*5]/mV, 'k')\n",
    "yticks([])\n",
    "ylabel('Time [major] v (mV) [minor]')\n",
    "xlabel('Position (cm)')\n",
    "axis('tight')\n",
    "show()"
   ]
  },
  {
   "cell_type": "code",
   "execution_count": 6,
   "metadata": {},
   "outputs": [
    {
     "ename": "AttributeError",
     "evalue": "Could not find a state variable with name \"v\". Did you mean to write any of the following: \"h\", \"m\", \"n\" ? Use the add_attribute method if you intend to add a new attribute to the object.",
     "output_type": "error",
     "traceback": [
      "\u001b[0;31m---------------------------------------------------------------------------\u001b[0m",
      "\u001b[0;31mAttributeError\u001b[0m                            Traceback (most recent call last)",
      "\u001b[0;32m<ipython-input-6-e91dcd9973df>\u001b[0m in \u001b[0;36m<module>\u001b[0;34m()\u001b[0m\n\u001b[1;32m     26\u001b[0m \u001b[0mneuron\u001b[0m \u001b[0;34m=\u001b[0m \u001b[0mNeuronGroup\u001b[0m\u001b[0;34m(\u001b[0m\u001b[0;36m1\u001b[0m\u001b[0;34m,\u001b[0m \u001b[0mmodel\u001b[0m\u001b[0;34m=\u001b[0m\u001b[0meqs\u001b[0m\u001b[0;34m,\u001b[0m \u001b[0mthreshold\u001b[0m\u001b[0;34m=\u001b[0m\u001b[0;34m'v > 1'\u001b[0m\u001b[0;34m,\u001b[0m \u001b[0mreset\u001b[0m\u001b[0;34m=\u001b[0m\u001b[0;34m'v = 0'\u001b[0m\u001b[0;34m,\u001b[0m \u001b[0mrefractory\u001b[0m\u001b[0;34m=\u001b[0m\u001b[0;34m'15*ms'\u001b[0m\u001b[0;34m,\u001b[0m \u001b[0mmethod\u001b[0m\u001b[0;34m=\u001b[0m\u001b[0;34m\"rk2\"\u001b[0m\u001b[0;34m)\u001b[0m\u001b[0;34m\u001b[0m\u001b[0m\n\u001b[1;32m     27\u001b[0m \u001b[0;34m\u001b[0m\u001b[0m\n\u001b[0;32m---> 28\u001b[0;31m \u001b[0mneuron\u001b[0m\u001b[0;34m.\u001b[0m\u001b[0mv\u001b[0m \u001b[0;34m=\u001b[0m \u001b[0;36m0\u001b[0m\u001b[0;34m*\u001b[0m\u001b[0mmV\u001b[0m\u001b[0;34m\u001b[0m\u001b[0m\n\u001b[0m\u001b[1;32m     29\u001b[0m \u001b[0mneuron\u001b[0m\u001b[0;34m.\u001b[0m\u001b[0mh\u001b[0m \u001b[0;34m=\u001b[0m \u001b[0;36m1\u001b[0m\u001b[0;34m\u001b[0m\u001b[0m\n\u001b[1;32m     30\u001b[0m \u001b[0mneuron\u001b[0m\u001b[0;34m.\u001b[0m\u001b[0mm\u001b[0m \u001b[0;34m=\u001b[0m \u001b[0;36m0\u001b[0m\u001b[0;34m\u001b[0m\u001b[0m\n",
      "\u001b[0;32m/usr/lib/python3.6/site-packages/brian2/groups/neurongroup.py\u001b[0m in \u001b[0;36m__setattr__\u001b[0;34m(self, key, value)\u001b[0m\n\u001b[1;32m    690\u001b[0m                                  'model equations.') % key)\n\u001b[1;32m    691\u001b[0m             \u001b[0;32melse\u001b[0m\u001b[0;34m:\u001b[0m\u001b[0;34m\u001b[0m\u001b[0m\n\u001b[0;32m--> 692\u001b[0;31m                 \u001b[0mGroup\u001b[0m\u001b[0;34m.\u001b[0m\u001b[0m__setattr__\u001b[0m\u001b[0;34m(\u001b[0m\u001b[0mself\u001b[0m\u001b[0;34m,\u001b[0m \u001b[0mkey\u001b[0m\u001b[0;34m,\u001b[0m \u001b[0mvalue\u001b[0m\u001b[0;34m,\u001b[0m \u001b[0mlevel\u001b[0m\u001b[0;34m=\u001b[0m\u001b[0;36m1\u001b[0m\u001b[0;34m)\u001b[0m\u001b[0;34m\u001b[0m\u001b[0m\n\u001b[0m\u001b[1;32m    693\u001b[0m \u001b[0;34m\u001b[0m\u001b[0m\n\u001b[1;32m    694\u001b[0m     \u001b[0;32mdef\u001b[0m \u001b[0m__getitem__\u001b[0m\u001b[0;34m(\u001b[0m\u001b[0mself\u001b[0m\u001b[0;34m,\u001b[0m \u001b[0mitem\u001b[0m\u001b[0;34m)\u001b[0m\u001b[0;34m:\u001b[0m\u001b[0;34m\u001b[0m\u001b[0m\n",
      "\u001b[0;32m/usr/lib/python3.6/site-packages/brian2/groups/group.py\u001b[0m in \u001b[0;36m__setattr__\u001b[0;34m(self, name, val, level)\u001b[0m\n\u001b[1;32m    446\u001b[0m             error_msg += (' Use the add_attribute method if you intend to add '\n\u001b[1;32m    447\u001b[0m                           'a new attribute to the object.')\n\u001b[0;32m--> 448\u001b[0;31m             \u001b[0;32mraise\u001b[0m \u001b[0mAttributeError\u001b[0m\u001b[0;34m(\u001b[0m\u001b[0merror_msg\u001b[0m\u001b[0;34m)\u001b[0m\u001b[0;34m\u001b[0m\u001b[0m\n\u001b[0m\u001b[1;32m    449\u001b[0m \u001b[0;34m\u001b[0m\u001b[0m\n\u001b[1;32m    450\u001b[0m     \u001b[0;32mdef\u001b[0m \u001b[0madd_attribute\u001b[0m\u001b[0;34m(\u001b[0m\u001b[0mself\u001b[0m\u001b[0;34m,\u001b[0m \u001b[0mname\u001b[0m\u001b[0;34m)\u001b[0m\u001b[0;34m:\u001b[0m\u001b[0;34m\u001b[0m\u001b[0m\n",
      "\u001b[0;31mAttributeError\u001b[0m: Could not find a state variable with name \"v\". Did you mean to write any of the following: \"h\", \"m\", \"n\" ? Use the add_attribute method if you intend to add a new attribute to the object."
     ]
    }
   ],
   "source": [
    "El = 10.613*mV\n",
    "ENa = 115*mV\n",
    "EK = -12*mV\n",
    "gl = 0.3*msiemens/cm**2\n",
    "gNa0 = 120*msiemens/cm**2\n",
    "gK = 36*msiemens/cm**2\n",
    "\n",
    "# Typical equations\n",
    "eqs = '''\n",
    "# The same equations for the whole neuron, but possibly different parameter values\n",
    "# distributed transmembrane current\n",
    "Im = gl * (El-v) + gNa * m**3 * h * (ENa-v) + gK * n**4 * (EK-v) : amp/meter**2\n",
    "#I : amp (point current) # applied current\n",
    "dm/dt = alpham * (1-m) - betam * m : 1\n",
    "dn/dt = alphan * (1-n) - betan * n : 1\n",
    "dh/dt = alphah * (1-h) - betah * h : 1\n",
    "alpham = (0.1/mV) * (-v+25*mV) / (exp((-v+25*mV) / (10*mV)) - 1)/ms : Hz\n",
    "betam = 4 * exp(-v/(18*mV))/ms : Hz\n",
    "alphah = 0.07 * exp(-v/(20*mV))/ms : Hz\n",
    "betah = 1/(exp((-v+30*mV) / (10*mV)) + 1)/ms : Hz\n",
    "alphan = (0.01/mV) * (-v+10*mV) / (exp((-v+10*mV) / (10*mV)) - 1)/ms : Hz\n",
    "betan = 0.125*exp(-v/(80*mV))/ms : Hz\n",
    "gNa : siemens/meter**2\n",
    "'''\n",
    "\n",
    "neuron = NeuronGroup(1, model=eqs, threshold='v > 1', reset='v = 0', refractory='15*ms', method=\"rk2\")\n",
    "\n",
    "neuron.v = 0*mV\n",
    "neuron.h = 1\n",
    "neuron.m = 0\n",
    "neuron.n = .5\n",
    "neuron.I = 1\n",
    "neuron.gNa = gNa0\n",
    "\n",
    "stateMonitor = StateMonitor(neuron, 'v', record=True)\n",
    "\n",
    "run(500*ms)\n",
    "\n",
    "plot(stateMonitor.t/ms, stateMonitor.v, label='HH-Neuron')\n",
    "xlabel('Time (ms)')\n",
    "ylabel('v')"
   ]
  },
  {
   "cell_type": "code",
   "execution_count": 11,
   "metadata": {},
   "outputs": [
    {
     "name": "stdout",
     "output_type": "stream",
     "text": [
      "Starting simulation at t=0. s for a duration of 200. ms\n",
      "200. ms (100%) simulated in 5s\n"
     ]
    },
    {
     "data": {
      "image/png": "[encoded data removed]",
      "text/plain": [
       "<matplotlib.figure.Figure at 0x7f3d23f42278>"
      ]
     },
     "metadata": {},
     "output_type": "display_data"
    }
   ],
   "source": [
    "defaultclock.dt = 0.01*ms\n",
    "\n",
    "morpho = Cylinder(length=10*cm, diameter=2*238*um, n=1000, type='axon')\n",
    "\n",
    "El = 10.613*mV\n",
    "ENa = 115*mV\n",
    "EK = -12*mV\n",
    "gl = 0.3*msiemens/cm**2\n",
    "gNa0 = 120*msiemens/cm**2\n",
    "gK = 36*msiemens/cm**2\n",
    "\n",
    "# Typical equations\n",
    "eqs = '''\n",
    "# The same equations for the whole neuron, but possibly different parameter values\n",
    "# distributed transmembrane current\n",
    "Im = gl * (El-v) + gNa * m**3 * h * (ENa-v) + gK * n**4 * (EK-v) : amp/meter**2\n",
    "I : amp (point current) # applied current\n",
    "dm/dt = alpham * (1-m) - betam * m : 1\n",
    "dn/dt = alphan * (1-n) - betan * n : 1\n",
    "dh/dt = alphah * (1-h) - betah * h : 1\n",
    "alpham = (0.1/mV) * (-v+25*mV) / (exp((-v+25*mV) / (10*mV)) - 1)/ms : Hz\n",
    "betam = 4 * exp(-v/(18*mV))/ms : Hz\n",
    "alphah = 0.07 * exp(-v/(20*mV))/ms : Hz\n",
    "betah = 1/(exp((-v+30*mV) / (10*mV)) + 1)/ms : Hz\n",
    "alphan = (0.01/mV) * (-v+10*mV) / (exp((-v+10*mV) / (10*mV)) - 1)/ms : Hz\n",
    "betan = 0.125*exp(-v/(80*mV))/ms : Hz\n",
    "gNa : siemens/meter**2\n",
    "'''\n",
    "\n",
    "neuron = SpatialNeuron(morphology=morpho, model=eqs, method=\"exponential_euler\",\n",
    "                       refractory=\"m > 0.4\", threshold=\"m > 0.5\",\n",
    "                       Cm=1*uF/cm**2, Ri=35.4*ohm*cm)\n",
    "neuron.v = 0*mV\n",
    "neuron.h = 1\n",
    "neuron.m = 0\n",
    "neuron.n = .5\n",
    "neuron.I = 0*amp\n",
    "neuron.gNa = gNa0\n",
    "M = StateMonitor(neuron, 'v', record=True)\n",
    "spikes = SpikeMonitor(neuron)\n",
    "\n",
    "run(200*ms, report='text')\n",
    "neuron.I[0] = 1*uA # current injection at one end\n",
    "\n",
    "subplot(211)\n",
    "for i in range(10):\n",
    "    plot(M.t/ms, M.v.T[:, i*100]/mV)\n",
    "ylabel('v')\n",
    "subplot(212)\n",
    "plot(spikes.t/ms, spikes.i*neuron.length[0]/cm, '.k')\n",
    "xlabel('Time (ms)')\n",
    "ylabel('Position (cm)')\n",
    "show()\n"
   ]
  },
  {
   "cell_type": "code",
   "execution_count": null,
   "metadata": {},
   "outputs": [],
   "source": []
  }
 ],
 "metadata": {
  "kernelspec": {
   "display_name": "Python 3",
   "language": "python",
   "name": "python3"
  },
  "language_info": {
   "codemirror_mode": {
    "name": "ipython",
    "version": 3
   },
   "file_extension": ".py",
   "mimetype": "text/x-python",
   "name": "python",
   "nbconvert_exporter": "python",
   "pygments_lexer": "ipython3",
   "version": "3.6.3"
  }
 },
 "nbformat": 4,
 "nbformat_minor": 2
}
