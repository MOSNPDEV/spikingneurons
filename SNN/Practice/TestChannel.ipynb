{
 "cells": [
  {
   "cell_type": "code",
   "execution_count": 1,
   "metadata": {
    "collapsed": true
   },
   "outputs": [],
   "source": [
    "from brian2 import *\n",
    "import brian2.numpy_ as np\n",
    "prefs.codegen.target = 'numpy'\n",
    "import timeit"
   ]
  },
  {
   "cell_type": "code",
   "execution_count": 2,
   "metadata": {
    "collapsed": false
   },
   "outputs": [
    {
     "data": {
      "image/png": "[encoded data removed]",
      "text/plain": [
       "<matplotlib.figure.Figure at 0x2573e5ee4e0>"
      ]
     },
     "metadata": {},
     "output_type": "display_data"
    },
    {
     "data": {
      "image/png": "[encoded data removed]",
      "text/plain": [
       "<matplotlib.figure.Figure at 0x2573e7d9278>"
      ]
     },
     "metadata": {},
     "output_type": "display_data"
    },
    {
     "name": "stdout",
     "output_type": "stream",
     "text": [
      "6.181433551298364\n"
     ]
    }
   ],
   "source": [
    "start = timeit.default_timer()\n",
    "\n",
    "start_scope()\n",
    "#Implementing the independent CaT current.\n",
    "\n",
    "duration = 100*ms\n",
    "#Parameters\n",
    "C = 1*ufarad\n",
    "gCaTmax = 0.001*siemens\n",
    "Cai = 50 * nmole\n",
    "Cao = 2 * mmole\n",
    "q10 = 5\n",
    "a0m = 0.04/ms\n",
    "a0h = 0.015/ms\n",
    "zetam = 2/mV\n",
    "zetah = 3.5/mV\n",
    "vhalfm = -28*mV\n",
    "vhalfh = -75*mV\n",
    "gmm = 0.1\n",
    "gmh = 0.6\n",
    "temp = 34\n",
    "f = ((25/293.15)*(temp + 273.15))*mV/2\n",
    "V0 = -65*mV\n",
    "qt = q10 ** ((temp - 25) / 10)\n",
    "\n",
    "@check_units(z=1, result=1)    \n",
    "def efun(z):\n",
    "    if (np.absolute(z) < 0.0001): \n",
    "        return 1 - z/2\n",
    "    else:\n",
    "        return z/(exp(z) - 1)\n",
    "    \n",
    "@check_units(V=volt, result=1)\n",
    "def nu(V):\n",
    "    return V / f\n",
    "\n",
    "\n",
    "@check_units(V=volt, result=volt)\n",
    "def ghk(V):\n",
    "    return -f * (1 - (Cai / Cao) * exp(nu(V))) * efun(nu(V))\n",
    "\n",
    "\n",
    "eqs = Equations('''\n",
    "                    dV/dt = (ICaT + I)/C : volt\n",
    "                    ICaT = gCaT*ghk(V) : amp (constant over dt)\n",
    "                    gCaT = gCaTmax*mCaT*mCaT*hCaT : siemens\n",
    "                    dmCaT/dt = (infmCaT - mCaT)/taum : 1\n",
    "                    dhCaT/dt = (infhCaT - hCaT)/tauh : 1\n",
    "                    infmCaT = alpm/(alpm+betm) : 1\n",
    "                    infhCaT = alph/(alph+beth) : 1\n",
    "                    alpm = 0.2*(mV**-1)*(-V+19.26*mV)/(exp((-V+19.26*mV)/(10.0*mV))-1) : 1\n",
    "                    alph = 10**-6*exp(-V/(16.26*mV)) : 1\n",
    "                    alpmt = exp(0.0378*zetam*(V-vhalfm)) : 1\n",
    "                    betm = 0.009*exp(-V/(22.03*mV)) : 1\n",
    "                    beth = 1/(exp((-V+29.79*mV)/(10*mV))+1) : 1\n",
    "                    betmt = exp(0.0378*zetam*gmm*(V-vhalfm)) : 1\n",
    "                    taum = betmt/(qt*a0m*(1+alpmt)) : second\n",
    "                    tauh = beth/(a0h*(1+alph)) : second                    \n",
    "                    I : amp               \n",
    "                    ''')\n",
    "\n",
    "group = NeuronGroup(1, eqs, threshold='V > -40*mV', refractory='V > -40*mV', method='rk2')\n",
    "\n",
    "alpm0 = 0.2*(mV**-1)*(-V0+19.26*mV)/(exp((-V0+19.26*mV)/(10.0*mV))-1)\n",
    "betm0 = 0.009*exp(-V0/(22.03*mV))\n",
    "alph0 = 10**-6*exp(-V0/(16.26*mV))\n",
    "beth0 = 1/(exp((-V0+29.79*mV)/(10*mV))+1)\n",
    "group.mCaT = alpm0/(alpm0+betm0)\n",
    "group.hCaT = alph0/(alph0+beth0)\n",
    "\n",
    "M = StateMonitor(group, variables=True, record=True)\n",
    "\n",
    "store()\n",
    "# Plot tau and the channel current for different voltages\n",
    "voltages = np.linspace(-50, 10, 70) * mV\n",
    "vs = []\n",
    "Is = []\n",
    "for volt in voltages:\n",
    "    # Restore the original state of the network\n",
    "    restore()\n",
    "    group.V = volt\n",
    "    alpm0 = 0.2*(mV**-1)*(-volt+19.26*mV)/(exp((-volt+19.26*mV)/(10.0*mV))-1)\n",
    "    betm0 = 0.009*exp(-volt/(22.03*mV))\n",
    "    alph0 = 10**-6*exp(-volt/(16.26*mV))\n",
    "    beth0 = 1/(exp((-volt+29.79*mV)/(10*mV))+1)\n",
    "    group.mCaT = alpm0/(alpm0+betm0)\n",
    "    group.hCaT = alph0/(alph0+beth0)\n",
    "    # Run it with the new value of tau\n",
    "    run(1 * ms)\n",
    "    vs.append(M.V[0])\n",
    "    Is.append(M.ICaT[0])\n",
    "\n",
    "figure(1)\n",
    "plot(voltages, vs)\n",
    "xlabel('Voltage')\n",
    "ylabel('Tau');\n",
    "\n",
    "figure(2)\n",
    "plot(voltages, Is)\n",
    "xlabel('Volt')\n",
    "ylabel('Amps');\n",
    "show()\n",
    "\n",
    "stop = timeit.default_timer()\n",
    "print(stop - start)"
   ]
  },
  {
   "cell_type": "code",
   "execution_count": null,
   "metadata": {
    "collapsed": true
   },
   "outputs": [],
   "source": []
  }
 ],
 "metadata": {
  "kernelspec": {
   "display_name": "Python 3",
   "language": "python",
   "name": "python3"
  },
  "language_info": {
   "codemirror_mode": {
    "name": "ipython",
    "version": 3
   },
   "file_extension": ".py",
   "mimetype": "text/x-python",
   "name": "python",
   "nbconvert_exporter": "python",
   "pygments_lexer": "ipython3",
   "version": "3.6.0"
  }
 },
 "nbformat": 4,
 "nbformat_minor": 2
}
