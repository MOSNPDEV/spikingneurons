{
 "cells": [
  {
   "cell_type": "code",
   "execution_count": 3,
   "metadata": {},
   "outputs": [],
   "source": [
    "from brian2 import * "
   ]
  },
  {
   "cell_type": "code",
   "execution_count": 21,
   "metadata": {},
   "outputs": [
    {
     "data": {
      "image/png": "[encoded data removed]",
      "text/plain": [
       "<matplotlib.figure.Figure at 0x7f2c9b561828>"
      ]
     },
     "metadata": {},
     "output_type": "display_data"
    }
   ],
   "source": [
    "#Super simple IF\n",
    "start_scope()\n",
    "\n",
    "tau = 10*ms\n",
    "\n",
    "eqs = '''\n",
    "        dv/dt = (v0 - v) / tau : volt (unless refractory)\n",
    "        v0 : volt\n",
    "        '''\n",
    "group = NeuronGroup(1, eqs, threshold='v > 10*mV', reset='v = 0*mV',\n",
    "                    refractory=5*ms, method='exponential_euler')\n",
    "\n",
    "group.v = rand()*mV\n",
    "group.v0 = rand()*mV\n",
    "\n",
    "M = StateMonitor(group, 'v', record=True)\n",
    "\n",
    "run(100*ms)\n",
    "plot(M.t/ms, M.v[0])\n",
    "xlabel('Time')\n",
    "ylabel('Voltage')\n",
    "show()"
   ]
  },
  {
   "cell_type": "code",
   "execution_count": 24,
   "metadata": {},
   "outputs": [
    {
     "data": {
      "image/png": "[encoded data removed]",
      "text/plain": [
       "<matplotlib.figure.Figure at 0x7f2c97386ef0>"
      ]
     },
     "metadata": {},
     "output_type": "display_data"
    }
   ],
   "source": [
    "start_scope()\n",
    "n = 1000\n",
    "duration = 1*second\n",
    "tau = 10*ms\n",
    "eqs = '''\n",
    "dv/dt = (v0 - v) / tau : volt (unless refractory)\n",
    "v0 : volt\n",
    "'''\n",
    "group = NeuronGroup(n, eqs, threshold='v > 10*mV', reset='v = 0*mV',\n",
    "                    refractory=5*ms, method='exponential_euler')\n",
    "group.v = 0*mV\n",
    "group.v0 = '20*mV * i / (n-1)'\n",
    "\n",
    "monitor = SpikeMonitor(group)\n",
    "\n",
    "run(duration)\n",
    "plot(group.v0/mV, monitor.count / duration)\n",
    "xlabel('v0 (mV)')\n",
    "ylabel('Firing rate (sp/s)')\n",
    "show()"
   ]
  },
  {
   "cell_type": "code",
   "execution_count": 25,
   "metadata": {},
   "outputs": [
    {
     "ename": "NameError",
     "evalue": "name 'randomInput' is not defined",
     "output_type": "error",
     "traceback": [
      "\u001b[0;31m---------------------------------------------------------------------------\u001b[0m",
      "\u001b[0;31mNameError\u001b[0m                                 Traceback (most recent call last)",
      "\u001b[0;32m<ipython-input-25-b7fb2a062945>\u001b[0m in \u001b[0;36m<module>\u001b[0;34m()\u001b[0m\n\u001b[1;32m     25\u001b[0m                 '''\n\u001b[1;32m     26\u001b[0m \u001b[0;34m\u001b[0m\u001b[0m\n\u001b[0;32m---> 27\u001b[0;31m \u001b[0minputG\u001b[0m \u001b[0;34m=\u001b[0m \u001b[0mPoissonGroup\u001b[0m\u001b[0;34m(\u001b[0m\u001b[0mnumIn\u001b[0m\u001b[0;34m,\u001b[0m \u001b[0mrates\u001b[0m\u001b[0;34m=\u001b[0m\u001b[0mrandomInput\u001b[0m\u001b[0;34m(\u001b[0m\u001b[0mnumIn\u001b[0m\u001b[0;34m,\u001b[0m \u001b[0;36m20\u001b[0m\u001b[0;34m)\u001b[0m\u001b[0;34m)\u001b[0m\u001b[0;34m\u001b[0m\u001b[0m\n\u001b[0m\u001b[1;32m     28\u001b[0m neurons = NeuronGroup(500, eqs_neurons, threshold='v>vt', reset='v = vr',\n\u001b[1;32m     29\u001b[0m                       method='rk2')\n",
      "\u001b[0;31mNameError\u001b[0m: name 'randomInput' is not defined"
     ]
    }
   ],
   "source": [
    "#Standard IF + STDP (from the tutorial)\n",
    "\n",
    "start_scope()\n",
    "\n",
    "N = 500\n",
    "taum = 10*ms\n",
    "taupre = 20*ms\n",
    "taupost = taupre\n",
    "Ee = 0*mV\n",
    "vt = -54*mV\n",
    "vr = -60*mV\n",
    "El = -74*mV\n",
    "taue = 5*ms\n",
    "F = 15*Hz\n",
    "gmax = .01\n",
    "dApre = .01\n",
    "dApost = -dApre * taupre / taupost * 1.05\n",
    "dApost *= gmax\n",
    "dApre *= gmax\n",
    "numIn = 50\n",
    "\n",
    "eqs_neurons = '''\n",
    "                dv/dt = (ge * (Ee-vr) + El - v) / taum : volt\n",
    "                dge/dt = -ge / taue : 1\n",
    "                '''\n",
    "\n",
    "inputG = PoissonGroup(numIn, rates=randomInput(numIn, 20))\n",
    "neurons = NeuronGroup(500, eqs_neurons, threshold='v>vt', reset='v = vr',\n",
    "                      method='rk2')\n",
    "S = Synapses(inputG, neurons,\n",
    "             '''w : 1\n",
    "                dApre/dt = -Apre / taupre : 1 (event-driven)\n",
    "                dApost/dt = -Apost / taupost : 1 (event-driven)''',\n",
    "             on_pre='''ge += w\n",
    "                    Apre += dApre\n",
    "                    w = clip(w + Apost, 0, gmax)''',\n",
    "             on_post='''Apost += dApost\n",
    "                     w = clip(w + Apre, 0, gmax)''',\n",
    "             )\n",
    "\n",
    "S.connect()\n",
    "#S.w = 'rand() * gmax'\n",
    "S.w= 0.005\n",
    "\n",
    "\n",
    "\n",
    "net = Network(inputG, neurons)\n",
    "net.store()\n",
    "net.restore()\n",
    "net.run(1*second)\n",
    "\n",
    "smIn = SpikeMonitor(inputG)\n",
    "smNeurons = SpikeMonitor(neurons)"
   ]
  },
  {
   "cell_type": "code",
   "execution_count": null,
   "metadata": {},
   "outputs": [],
   "source": []
  }
 ],
 "metadata": {
  "kernelspec": {
   "display_name": "Python 3",
   "language": "python",
   "name": "python3"
  },
  "language_info": {
   "codemirror_mode": {
    "name": "ipython",
    "version": 3
   },
   "file_extension": ".py",
   "mimetype": "text/x-python",
   "name": "python",
   "nbconvert_exporter": "python",
   "pygments_lexer": "ipython3",
   "version": "3.6.0"
  }
 },
 "nbformat": 4,
 "nbformat_minor": 2
}
