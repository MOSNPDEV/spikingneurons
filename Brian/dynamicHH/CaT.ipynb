{
 "cells": [
  {
   "cell_type": "code",
   "execution_count": 7,
   "metadata": {},
   "outputs": [],
   "source": [
    "from brian2 import *\n",
    "import brian2.numpy_ as np\n",
    "prefs.codegen.target = 'numpy'\n",
    "import timeit\n",
    "start_scope()\n",
    "#Implementing the independent CaT current.\n",
    "\n",
    "duration = 100*ms\n",
    "#Parameters\n",
    "C = 1*ufarad\n",
    "V0 = -65*mV\n",
    "temp = 34\n",
    "gCaTmax = 0.001*siemens\n",
    "Cai = 50 * nmole\n",
    "Cao = 2 * mmole\n",
    "q10CaT = 5\n",
    "a0mCaT = 0.04/ms\n",
    "a0hCaT = 0.015/ms\n",
    "zetamCaT = 2/mV\n",
    "zetahCaT = 3.5/mV\n",
    "vhalfmCaT = -28*mV\n",
    "vhalfhCaT = -75*mV\n",
    "gmmCaT = 0.1\n",
    "gmhCaT = 0.6\n",
    "f = ((25/293.15)*(temp + 273.15))*mV/2\n",
    "\n",
    "@check_units(z=1, result=1)    \n",
    "def efun(z):\n",
    "    if (np.absolute(z) < 0.0001): \n",
    "        return 1 - z/2\n",
    "    else:\n",
    "        return z/(exp(z) - 1)\n",
    "    \n",
    "@check_units(V=volt, result=1)\n",
    "def nu(V):\n",
    "    return V / f\n",
    "\n",
    "\n",
    "@check_units(V=volt, result=volt)\n",
    "def ghk(V):\n",
    "    return -f * (1 - (Cai / Cao) * exp(nu(V))) * efun(nu(V))\n",
    "\n",
    "\n",
    "eqs = Equations('''\n",
    "                    dV/dt = (ICaT + I)/C : volt\n",
    "                    ICaT = gCaT*ghk(V) : amp (constant over dt)\n",
    "                    gCaT = gCaTmax*mCaT*mCaT*hCaT : siemens\n",
    "                    dmCaT/dt = (infmCaT - mCaT)/taumCaT : 1\n",
    "                    dhCaT/dt = (infhCaT - hCaT)/tauhCaT : 1\n",
    "                    infmCaT = alpmCaT/(alpmCaT+betmCaT) : 1\n",
    "                    infhCaT = alphCaT/(alphCaT+bethCaT) : 1\n",
    "                    alpmCaT = 0.2*(mV**-1)*(-V+19.26*mV)/(exp((-V+19.26*mV)/(10.0*mV))-1) : 1\n",
    "                    alphCaT = 10**-6*exp(-V/(16.26*mV)) : 1\n",
    "                    alpmtCaT = exp(0.0378*zetamCaT*(V-vhalfmCaT)) : 1\n",
    "                    betmCaT = 0.009*exp(-V/(22.03*mV)) : 1\n",
    "                    bethCaT = 1/(exp((-V+29.79*mV)/(10*mV))+1) : 1\n",
    "                    betmtCaT = exp(0.0378*zetamCaT*gmmCaT*(V-vhalfmCaT)) : 1\n",
    "                    taumCaT = betmtCaT/(qtCaT*a0mCaT*(1+alpmtCaT)) : second\n",
    "                    tauhCaT = bethCaT/(a0hCaT*(1+alphCaT)) : second       \n",
    "                    qtCaT = q10CaT ** ((temp - 25) / 10) : 1\n",
    "                    I : amp               \n",
    "                    ''')\n",
    "\n",
    "group = NeuronGroup(1, eqs, threshold='V > -40*mV', refractory='V > -40*mV', method='rk2')\n",
    "M = StateMonitor(group, variables=True, record=True)\n",
    "\n",
    "store()"
   ]
  },
  {
   "cell_type": "code",
   "execution_count": 5,
   "metadata": {},
   "outputs": [],
   "source": []
  },
  {
   "cell_type": "code",
   "execution_count": 8,
   "metadata": {},
   "outputs": [
    {
     "data": {
      "image/png": "[encoded data removed]",
      "text/plain": [
       "<matplotlib.figure.Figure at 0x7f4dc4714550>"
      ]
     },
     "metadata": {},
     "output_type": "display_data"
    },
    {
     "data": {
      "image/png": "[encoded data removed]",
      "text/plain": [
       "<matplotlib.figure.Figure at 0x7f4da215f940>"
      ]
     },
     "metadata": {},
     "output_type": "display_data"
    }
   ],
   "source": [
    "\n",
    "# Plot tau and the channel current for different voltages\n",
    "voltages = np.linspace(-50, 10, 70) * mV\n",
    "vs = []\n",
    "Is = []\n",
    "for volt in voltages:\n",
    "    # Restore the original state of the network\n",
    "    restore()\n",
    "    group.V = volt\n",
    "    alpm0 = 0.2*(mV**-1)*(-volt+19.26*mV)/(exp((-volt+19.26*mV)/(10.0*mV))-1)\n",
    "    betm0 = 0.009*exp(-volt/(22.03*mV))\n",
    "    alph0 = 10**-6*exp(-volt/(16.26*mV))\n",
    "    beth0 = 1/(exp((-volt+29.79*mV)/(10*mV))+1)\n",
    "    group.mCaT = alpm0/(alpm0+betm0)\n",
    "    group.hCaT = alph0/(alph0+beth0)\n",
    "    # Run it with the new value of tau\n",
    "    run(1 * ms)\n",
    "    vs.append(M.V[0])\n",
    "    Is.append(M.ICaT[0])\n",
    "\n",
    "figure(1)\n",
    "plot(voltages, vs)\n",
    "xlabel('Voltage')\n",
    "ylabel('Tau');\n",
    "\n",
    "figure(2)\n",
    "plot(voltages, Is)\n",
    "xlabel('Volt')\n",
    "ylabel('Amps');\n",
    "show()\n"
   ]
  },
  {
   "cell_type": "code",
   "execution_count": null,
   "metadata": {},
   "outputs": [],
   "source": []
  }
 ],
 "metadata": {
  "kernelspec": {
   "display_name": "Python 3",
   "language": "python",
   "name": "python3"
  },
  "language_info": {
   "codemirror_mode": {
    "name": "ipython",
    "version": 3
   },
   "file_extension": ".py",
   "mimetype": "text/x-python",
   "name": "python",
   "nbconvert_exporter": "python",
   "pygments_lexer": "ipython3",
   "version": "3.6.3"
  }
 },
 "nbformat": 4,
 "nbformat_minor": 2
}
