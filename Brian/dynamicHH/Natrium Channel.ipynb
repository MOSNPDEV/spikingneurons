{
 "cells": [
  {
   "cell_type": "code",
   "execution_count": null,
   "metadata": {},
   "outputs": [],
   "source": [
    "from brian2 import *\n",
    "import brian2.numpy_ as np\n",
    "prefs.codegen.target = 'numpy'"
   ]
  },
  {
   "cell_type": "code",
   "execution_count": null,
   "metadata": {},
   "outputs": [],
   "source": [
    "start_scope()\n",
    "#Implementing the independent Na current.\n",
    "\n",
    "duration = 100*ms\n",
    "#Parameters\n",
    "C = 1*ufarad\n",
    "VNa = 55*mV\n",
    "gNamax = 0.04*siemens\n",
    "vhalfs = -60*mV\n",
    "a0s = 0.0003/ms\n",
    "zetas = 12/mV\n",
    "gms = 0.2\n",
    "q10 = 2\n",
    "temp = 34\n",
    "Ra = 0.4/ms\n",
    "Rb = 0.124/ms\n",
    "Rg = 0.01/ms\n",
    "Rd = 0.03/ms\n",
    "tha = -30*mV\n",
    "qa = 7.2*mV\n",
    "qd = qg = 1.5*mV\n",
    "sh = 24*mV\n",
    "thinf = -50*mV\n",
    "qinf = 4*mV\n",
    "thi1 = -45*mV\n",
    "smax = 10*ms\n",
    "vvh = -58*mV\n",
    "vvs = 2*mV\n",
    "qt = (q10**((temp - 24)/10))/mV\n",
    "\n",
    "@check_units(V=volt, th=volt, a=Hz, q=volt, result=Hz*volt)\n",
    "def trap0(V, th, a, q):\n",
    "    if (abs(V-thi1) > 10**-6*mV):\n",
    "        return a * (V - th) / (1 - exp(-(V - th)/q))\n",
    "    else:\n",
    "        return a * q\n",
    "\n",
    "eqs = Equations('''\n",
    "                    dV/dt = (INa + I)/C : volt\n",
    "                    INa = gNa*(V - VNa) : amp\n",
    "                    gNa = gNamax*mNa*mNa*mNa*hNa*sNa : siemens\n",
    "                    dmNa/dt = (infmNa - mNa)/taum : 1\n",
    "                    dhNa/dt = (infhNa - hNa)/tauh : 1\n",
    "                    dsNa/dt = (infsNa - sNa)/taus : 1\n",
    "                    infmNa = a1/(a1 + b1) : 1 \n",
    "                    infhNa = 1/(1 + exp((V-thinf-sh)/qinf)) : 1\n",
    "                    infsNa = alpv+(1-alpv) : 1\n",
    "                    taum = 1/(a1 + b1)/qt : second \n",
    "                    tauh =  1/(a2 + b2)/qt : second \n",
    "                    taus = bets/(a0s*(1 + alps)) : second\n",
    "                    alps = exp(0.001*zetas*(V-vhalfs-sh)*96480/(8.315*(273.16 + temp))) : 1\n",
    "                    alpv = 1/(1+exp((V-vvh-sh)/vvs)) : 1\n",
    "                    bets = exp(0.001*zetas*gms*(V-vhalfs-sh)*96480/(8.315*(273.16 + temp))) : 1\n",
    "                    a1 = trap0(V,tha+sh,Ra,qa) : Hz*volt (constant over dt)\n",
    "                    b1 = trap0(-V,-tha-sh,Rb,qa) : Hz*volt (constant over dt)\n",
    "                    a2 = trap0(V,tha+sh,Rd,qd) : Hz*volt (constant over dt)\n",
    "                    b2 = trap0(-V,-tha-sh,Rg,qg) : Hz*volt (constant over dt)\n",
    "                    I : amp\n",
    "                    ''')\n",
    "\n",
    "group = NeuronGroup(1, eqs, threshold='V > -40*mV', refractory='V > -40*mV', method='rk2')\n",
    "\n",
    "M = StateMonitor(group, variables=True, record=True)\n",
    "\n",
    "store()\n",
    "# Plot tau and the channel current for different voltages\n",
    "voltages = np.linspace(-50, 10, 70) * mV\n",
    "vs = []\n",
    "Is = []\n",
    "for volt in voltages:\n",
    "    # Restore the original state of the network\n",
    "    restore()\n",
    "    alpv0 = 1/(1+exp((volt-vvh-sh)/vvs))\n",
    "    group.mNa = trap0(volt,tha+sh,Ra,qa)/(trap0(volt,tha+sh,Ra,qa) + trap0(-volt,-tha-sh,Rb,qa))\n",
    "    group.hNa = 1/(1 + exp((volt-thinf-sh)/qinf))\n",
    "    group.sNa = alpv0+(1-alpv0)\n",
    "    group.V = volt\n",
    "    # Run it with the new value of tau\n",
    "    run(1 * ms)\n",
    "    vs.append(M.V[0])\n",
    "    Is.append(M.INa[0])\n",
    "\n",
    "figure(1)\n",
    "plot(voltages, vs)\n",
    "xlabel('Voltage')\n",
    "ylabel('Tau');\n",
    "\n",
    "figure(2)\n",
    "plot(voltages, Is)\n",
    "xlabel('Volt')\n",
    "ylabel('Amps');\n",
    "show()"
   ]
  },
  {
   "cell_type": "code",
   "execution_count": 15,
   "metadata": {},
   "outputs": [
    {
     "data": {
      "image/png": "[encoded data removed]",
      "text/plain": [
       "<matplotlib.figure.Figure at 0x7f329eda4a58>"
      ]
     },
     "metadata": {},
     "output_type": "display_data"
    }
   ],
   "source": [
    "voltages = np.linspace(20, 200, 190)*mV\n",
    "vs = []\n",
    "for volt in voltages:\n",
    "    vs.append(trap0(volt, tha, Ra, qa))\n",
    "    \n",
    "figure(1)\n",
    "plot(voltages, vs)\n",
    "xlabel('Voltage')\n",
    "ylabel('Tau');\n",
    "show()"
   ]
  },
  {
   "cell_type": "code",
   "execution_count": 4,
   "metadata": {},
   "outputs": [
    {
     "name": "stdout",
     "output_type": "stream",
     "text": [
      "412. m^2 kg s^-4 A^-1\n",
      "12.1889761 m^2 kg s^-4 A^-1\n",
      "Hz V\n"
     ]
    }
   ],
   "source": [
    "print(trap0(volt, tha, Ra, qa))\n",
    "print(trap0(0.00000001*mV, tha, Ra, qa))\n",
    "print(Hz*volt)"
   ]
  },
  {
   "cell_type": "code",
   "execution_count": null,
   "metadata": {},
   "outputs": [],
   "source": []
  }
 ],
 "metadata": {
  "kernelspec": {
   "display_name": "Python 3",
   "language": "python",
   "name": "python3"
  },
  "language_info": {
   "codemirror_mode": {
    "name": "ipython",
    "version": 3
   },
   "file_extension": ".py",
   "mimetype": "text/x-python",
   "name": "python",
   "nbconvert_exporter": "python",
   "pygments_lexer": "ipython3",
   "version": "3.6.3"
  }
 },
 "nbformat": 4,
 "nbformat_minor": 2
}
