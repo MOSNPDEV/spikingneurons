{
 "cells": [
  {
   "cell_type": "code",
   "execution_count": 1,
   "metadata": {},
   "outputs": [],
   "source": [
    "from brian2 import * "
   ]
  },
  {
   "cell_type": "code",
   "execution_count": 2,
   "metadata": {},
   "outputs": [],
   "source": [
    "start_scope()\n",
    "\n",
    "duration = 100*ms\n",
    "#Conductances for all kind of channels\n",
    "C = 1*ufarad\n",
    "gNa = 0.04*siemens\n",
    "gKdr = 0.01*siemens\n",
    "gKa = 0.07*siemens\n",
    "gCaT = 0.001*siemens\n",
    "gCaN = 0.001*siemens\n",
    "gCaL = 0.001*siemens\n",
    "gCaK = 0.0001*siemens\n",
    "gKm = 0.0006*siemens\n",
    "gKd = 0.00045*siemens\n",
    "\n",
    "#General Structure for the equation\n",
    "#I = INa + IKdr + IKa + ICaT + ICaN + ICaL + ICaK + IKm + IKd\n",
    "#dV/dt = (IStim - INa - IKdr - IKa - ICaT - ICaN - ICaL - ICaK - IKm - IKd)/C\n",
    "eqs = Equations('''\n",
    "                    #I = INa + IKdr + IKa + ICaT + ICaN + ICaL + ICaK + IKm + IKd\n",
    "                    #dV/dt = (IStim - INa - IKdr - IKa - ICaT - ICaN - ICaL - ICaK - IKm - IKd)/C\n",
    "                    \n",
    "\n",
    "\n",
    "''')"
   ]
  },
  {
   "cell_type": "code",
   "execution_count": 26,
   "metadata": {},
   "outputs": [
    {
     "data": {
      "image/png": "[encoded data removed]",
      "text/plain": [
       "<matplotlib.figure.Figure at 0x7f227e550978>"
      ]
     },
     "metadata": {},
     "output_type": "display_data"
    }
   ],
   "source": [
    "start_scope()\n",
    "#Implementing solely the Km current.\n",
    "duration = 100*ms\n",
    "#Conductance\n",
    "C = 1*ufarad\n",
    "gKm = 0.0001*siemens\n",
    "VKm = -90*mV\n",
    "b0Km = 60*ms\n",
    "vhalfl = -40*mV\n",
    "vhalft = -42*mV\n",
    "sh = 24*mV\n",
    "kl = -10*mV\n",
    "a0t = 0.003/ms\n",
    "zetat = 7\n",
    "gmt = 0.4/mV\n",
    "V0 = -60*mV\n",
    "\n",
    "#General Structure for the equation\n",
    "eqs = Equations('''\n",
    "                    #I = IKm \n",
    "                    dV/dt = (IKm + I)/C : volt\n",
    "                    IKm = gKm*mKm*(V-VKm) : amp\n",
    "                    dmKm/dt = (infKm - mKm)/tauKm : 1\n",
    "                    infKm = (1/(1 + exp((V-vhalfl-sh)/(kl)))) : 1\n",
    "                    tauKm = b0Km + bettKm/(a0t*(1+alptKm)) : second\n",
    "                    alptKm = exp(0.0378*(mV**-1)*zetat*(V-vhalft-sh)) : 1\n",
    "                    bettKm = exp(0.0378*zetat*gmt*(V-vhalft-sh)) : 1\n",
    "                    I : amp\n",
    "''')\n",
    "\n",
    "group = NeuronGroup(1, eqs,\n",
    "                    threshold='V > -40*mV',\n",
    "                    refractory='V > -40*mV',\n",
    "                    method='exponential_euler')\n",
    "\n",
    "\n",
    "#group.V = V0\n",
    "group.V = -40*mV\n",
    "group.mKm = (1/(1 + exp((V0-vhalfl-sh)/(kl))))\n",
    "\n",
    "M = StateMonitor(group, variables=True, record=True)\n",
    "\n",
    "run(duration)\n",
    "\n",
    "plot(M.V[0], M.tauKm[0])\n",
    "xlabel('Voltage')\n",
    "ylabel('Tau')\n",
    "show()"
   ]
  },
  {
   "cell_type": "code",
   "execution_count": null,
   "metadata": {},
   "outputs": [],
   "source": []
  }
 ],
 "metadata": {
  "kernelspec": {
   "display_name": "Python 3",
   "language": "python",
   "name": "python3"
  },
  "language_info": {
   "codemirror_mode": {
    "name": "ipython",
    "version": 3
   },
   "file_extension": ".py",
   "mimetype": "text/x-python",
   "name": "python",
   "nbconvert_exporter": "python",
   "pygments_lexer": "ipython3",
   "version": "3.6.3"
  }
 },
 "nbformat": 4,
 "nbformat_minor": 2
}
