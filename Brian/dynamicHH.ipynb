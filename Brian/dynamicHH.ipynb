{
 "cells": [
  {
   "cell_type": "code",
   "execution_count": 1,
   "metadata": {},
   "outputs": [],
   "source": [
    "from brian2 import * "
   ]
  },
  {
   "cell_type": "code",
   "execution_count": 2,
   "metadata": {},
   "outputs": [],
   "source": [
    "start_scope()\n",
    "\n",
    "duration = 100*ms\n",
    "#Conductances for all kind of channels\n",
    "C = 1*ufarad\n",
    "gNa = 0.04*siemens\n",
    "gKdr = 0.01*siemens\n",
    "gKa = 0.07*siemens\n",
    "gCaT = 0.001*siemens\n",
    "gCaN = 0.001*siemens\n",
    "gCaL = 0.001*siemens\n",
    "gCaK = 0.0001*siemens\n",
    "gKm = 0.0006*siemens\n",
    "gKd = 0.00045*siemens\n",
    "\n",
    "#General Structure for the equation\n",
    "#I = INa + IKdr + IKa + ICaT + ICaN + ICaL + ICaK + IKm + IKd\n",
    "#dV/dt = (IStim - INa - IKdr - IKa - ICaT - ICaN - ICaL - ICaK - IKm - IKd)/C\n",
    "eqs = Equations('''\n",
    "                    #I = INa + IKdr + IKa + ICaT + ICaN + ICaL + ICaK + IKm + IKd\n",
    "                    #dV/dt = (IStim - INa - IKdr - IKa - ICaT - ICaN - ICaL - ICaK - IKm - IKd)/C\n",
    "                    \n",
    "\n",
    "\n",
    "''')"
   ]
  },
  {
   "cell_type": "code",
   "execution_count": null,
   "metadata": {},
   "outputs": [],
   "source": []
  },
  {
   "cell_type": "code",
   "execution_count": null,
   "metadata": {},
   "outputs": [],
   "source": []
  }
 ],
 "metadata": {
  "kernelspec": {
   "display_name": "Python 3",
   "language": "python",
   "name": "python3"
  },
  "language_info": {
   "codemirror_mode": {
    "name": "ipython",
    "version": 3
   },
   "file_extension": ".py",
   "mimetype": "text/x-python",
   "name": "python",
   "nbconvert_exporter": "python",
   "pygments_lexer": "ipython3",
   "version": "3.6.3"
  }
 },
 "nbformat": 4,
 "nbformat_minor": 2
}
