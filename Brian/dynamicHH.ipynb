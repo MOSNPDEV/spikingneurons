{
 "cells": [
  {
   "cell_type": "code",
   "execution_count": 1,
   "metadata": {},
   "outputs": [],
   "source": [
    "from brian2 import * "
   ]
  },
  {
   "cell_type": "code",
   "execution_count": null,
   "metadata": {},
   "outputs": [],
   "source": [
    "start_scope()\n",
    "\n",
    "duration = 100*ms\n",
    "#General Structure\n",
    "#I = INa + IKdr + IKa + ICaT + ICaN + ICaL + ICaK + IKm + IKd\n",
    "#dV/dt = (IStim - INa - IKdr - IKa - ICaT - ICaN - ICaL - ICaK - IKm - IKd)/C\n",
    "\n",
    "eqs = Equations('''\n",
    "                    #I = INa + IKdr + IKa + ICaT + ICaN + ICaL + ICaK + IKm + IKd\n",
    "                    #dV/dt = (IStim - INa - IKdr - IKa - ICaT - ICaN - ICaL - ICaK - IKm - IKd)/C\n",
    "\n",
    "gna=0.04\n",
    "gkdr=0.01\n",
    "gka=0.07\n",
    "gcaT=0.001\n",
    "gcaN=0.001\n",
    "gcaL=0.001\n",
    "gcaK=0.0001\n",
    "gkm=0.0006\n",
    "gkd=0.00045\n",
    "\n",
    "''')"
   ]
  }
 ],
 "metadata": {
  "kernelspec": {
   "display_name": "Python 3",
   "language": "python",
   "name": "python3"
  },
  "language_info": {
   "codemirror_mode": {
    "name": "ipython",
    "version": 3
   },
   "file_extension": ".py",
   "mimetype": "text/x-python",
   "name": "python",
   "nbconvert_exporter": "python",
   "pygments_lexer": "ipython3",
   "version": "3.6.3"
  }
 },
 "nbformat": 4,
 "nbformat_minor": 2
}
