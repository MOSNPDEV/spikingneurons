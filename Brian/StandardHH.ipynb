{
 "cells": [
  {
   "cell_type": "code",
   "execution_count": 1,
   "metadata": {},
   "outputs": [],
   "source": [
    "from brian2 import *"
   ]
  },
  {
   "cell_type": "code",
   "execution_count": 3,
   "metadata": {},
   "outputs": [
    {
     "data": {
      "image/png": "[encoded data removed]",
      "text/plain": [
       "<matplotlib.figure.Figure at 0x7f30403c30f0>"
      ]
     },
     "metadata": {},
     "output_type": "display_data"
    }
   ],
   "source": [
    "start_scope()\n",
    "\n",
    "duration = 100*ms\n",
    "\n",
    "area = 20000*umetre**2\n",
    "VL = -65*mV\n",
    "VK = -77*mV\n",
    "VNa = 55*mV\n",
    "C = 1*ufarad*cm**-2 * area\n",
    "gL = 0.3*msiemens*cm**-2 * area\n",
    "gNa = 40*msiemens*cm**-2 * area\n",
    "gK = 35*msiemens*cm**-2 * area\n",
    "VT = -63*mV\n",
    "\n",
    "#Equation for the standard HH neuron from https://en.wikipedia.org/wiki/Hodgkin%E2%80%93Huxley_model with voltage-gated channels.\n",
    "eqs = Equations('''\n",
    "                    dV/dt = (I - gK*(n**4)*(V-VK) - gNa*h*(m**3)*(V-VNa) - gL*(V-VL))/C : volt\n",
    "                    dm/dt = am*(1-m) - bm*m : 1\n",
    "                    dn/dt = an*(1-n) - bn*n : 1\n",
    "                    dh/dt = ah*(1-h) - bh*h : 1\n",
    "                    \n",
    "                    am = 0.32*(mV**-1)*(13*mV-V+VT)/(exp((13*mV-V+VT)/(4*mV))-1)/ms : 1/second\n",
    "                    bm = 0.28*(mV**-1)*(V-VT-40*mV)/(exp((V-VT-40*mV)/(5*mV))-1)/ms : 1/second\n",
    "                    an = 0.032*(mV**-1)*(15*mV-V+VT)/(exp((15*mV-V+VT)/(5*mV))-1)/ms : 1/second\n",
    "                    bn = 0.5*exp((10*mV-V+VT)/(40*mV))/ms : 1/second\n",
    "                    ah = 0.128*exp((17*mV-V+VT)/(18*mV))/ms : 1/second\n",
    "                    bh = 4/(1+exp((40*mV-V+VT)/(5*mV)))/ms : 1/second\n",
    "                    #Parameters from the Neural Dynamics online book\n",
    "                    #am = (0.182*(ms**-1)*(mV**-1)*(V+35*mV)/(1-exp(-(V-35*mV)/9*mV)))\n",
    "                    #an = (0.02*(ms**-1)*(mV**-1)*(V-25*mV)/(1-exp(-(V-25*mV)/9*mV)))\n",
    "                    #ah = (0.25*(ms**-1)*exp(-(V+90*mV)/12*mV))\n",
    "                    #bm = ((-0.124*(ms**-1)*(mV**-1)*(V+35*mV))/(1-exp((V+35*mV)/9*mV)))\n",
    "                    #bn = ((-0.002*(ms**-1)*(mV**-1)*(V-25*mV))/(1-exp((V-25*mV)/9*mV)))\n",
    "                    #bh = ((0.25*(ms**-1)*(mV**-1)*exp((V+62*mV)/6*mV))/(exp((V+90*mV)/12*mV)))\n",
    "                    I : amp   \n",
    "                ''')\n",
    "\n",
    "\n",
    "\n",
    "group = NeuronGroup(1, eqs,\n",
    "                    threshold='V > -40*mV',\n",
    "                    refractory='V > -40*mV',\n",
    "                    method='exponential_euler')\n",
    "\n",
    "group.V = VL\n",
    "group.I = '0.41*nA'\n",
    "\n",
    "M = StateMonitor(group, 'V', record=True)\n",
    "\n",
    "run(duration)\n",
    "\n",
    "plot(M.t/ms, M.V[0])\n",
    "xlabel('Time (ms)')\n",
    "ylabel('Potential (V)')\n",
    "show()"
   ]
  },
  {
   "cell_type": "code",
   "execution_count": 4,
   "metadata": {},
   "outputs": [
    {
     "data": {
      "image/png": "[encoded data removed]",
      "text/plain": [
       "<matplotlib.figure.Figure at 0x7f3039e41208>"
      ]
     },
     "metadata": {},
     "output_type": "display_data"
    }
   ],
   "source": [
    "start_scope()\n",
    "duration = 500*ms\n",
    "\n",
    "# Parameters\n",
    "area = 20000*umetre**2\n",
    "Cm = 1*ufarad*cm**-2 * area\n",
    "gl = 5e-5*siemens*cm**-2 * area\n",
    "El = -65*mV\n",
    "EK = -90*mV\n",
    "ENa = 50*mV\n",
    "g_na = 100*msiemens*cm**-2 * area\n",
    "g_kd = 30*msiemens*cm**-2 * area\n",
    "\n",
    "\n",
    "# The model\n",
    "eqs = Equations('''\n",
    "dv/dt = (gl*(El-v) - g_na*(m*m*m)*h*(v-ENa) - g_kd*(n*n*n*n)*(v-EK) + I)/Cm : volt\n",
    "dm/dt = 0.32*(mV**-1)*(13.*mV-v+VT)/\n",
    "    (exp((13.*mV-v+VT)/(4.*mV))-1.)/ms*(1-m)-0.28*(mV**-1)*(v-VT-40.*mV)/\n",
    "    (exp((v-VT-40.*mV)/(5.*mV))-1.)/ms*m : 1\n",
    "dn/dt = 0.032*(mV**-1)*(15.*mV-v+VT)/\n",
    "    (exp((15.*mV-v+VT)/(5.*mV))-1.)/ms*(1.-n)-.5*exp((10.*mV-v+VT)/(40.*mV))/ms*n : 1\n",
    "dh/dt = 0.128*exp((17.*mV-v+VT)/(18.*mV))/ms*(1.-h)-4./(1+exp((40.*mV-v+VT)/(5.*mV)))/ms*h : 1\n",
    "I : amp\n",
    "''')\n",
    "# Threshold and refractoriness are only used for spike counting\n",
    "group = NeuronGroup(1, eqs,                    \n",
    "                    method='exponential_euler')\n",
    "group.v = El\n",
    "group.I = '0.02*nA'\n",
    "\n",
    "M = StateMonitor(group, 'v', threshold='v > -40*mV',\n",
    "                    refractory='v > -40*mV', record=True)\n",
    "\n",
    "run(duration)\n",
    "\n",
    "plot(M.t/ms, M.v[0])\n",
    "xlabel('Time (ms)')\n",
    "ylabel('Potential (V)')\n",
    "show()"
   ]
  },
  {
   "cell_type": "code",
   "execution_count": null,
   "metadata": {},
   "outputs": [],
   "source": []
  }
 ],
 "metadata": {
  "kernelspec": {
   "display_name": "Python 3",
   "language": "python",
   "name": "python3"
  },
  "language_info": {
   "codemirror_mode": {
    "name": "ipython",
    "version": 3
   },
   "file_extension": ".py",
   "mimetype": "text/x-python",
   "name": "python",
   "nbconvert_exporter": "python",
   "pygments_lexer": "ipython3",
   "version": "3.6.3"
  }
 },
 "nbformat": 4,
 "nbformat_minor": 2
}
